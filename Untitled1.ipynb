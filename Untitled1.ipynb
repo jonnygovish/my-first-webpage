{
  "nbformat": 4,
  "nbformat_minor": 0,
  "metadata": {
    "colab": {
      "name": "Untitled1.ipynb",
      "version": "0.3.2",
      "provenance": [],
      "include_colab_link": true
    },
    "kernelspec": {
      "name": "python3",
      "display_name": "Python 3"
    }
  },
  "cells": [
    {
      "cell_type": "markdown",
      "metadata": {
        "id": "view-in-github",
        "colab_type": "text"
      },
      "source": [
        "<a href=\"https://colab.research.google.com/github/jonnygovish/my-first-webpage/blob/master/Untitled1.ipynb\" target=\"_parent\"><img src=\"https://colab.research.google.com/assets/colab-badge.svg\" alt=\"Open In Colab\"/></a>"
      ]
    },
    {
      "cell_type": "code",
      "metadata": {
        "id": "dN_J3uXWHNIQ",
        "colab_type": "code",
        "colab": {}
      },
      "source": [
        ""
      ],
      "execution_count": 0,
      "outputs": []
    },
    {
      "cell_type": "markdown",
      "metadata": {
        "id": "d7iTcB8JHOGp",
        "colab_type": "text"
      },
      "source": [
        "**Point Estimation with Python - Exercise**\n",
        "\n"
      ]
    },
    {
      "cell_type": "code",
      "metadata": {
        "id": "5Nk1SN_WALXs",
        "colab_type": "code",
        "colab": {}
      },
      "source": [
        "import numpy as np\n",
        "import pandas as pd\n",
        "import scipy.stats as stats\n",
        "import matplotlib.pyplot as plt\n",
        "import random\n",
        "import math"
      ],
      "execution_count": 0,
      "outputs": []
    },
    {
      "cell_type": "code",
      "metadata": {
        "id": "4UaSx40_AVNJ",
        "colab_type": "code",
        "colab": {
          "base_uri": "https://localhost:8080/",
          "height": 187
        },
        "outputId": "3c080aed-4898-4e58-aa64-0793d1bb6468"
      },
      "source": [
        "random.seed(10)\n",
        "population_races = ([\"white\"]*100000) + ([\"black\"]*50000) +\\\n",
        "                   ([\"hispanic\"]*50000) + ([\"asian\"]*25000) +\\\n",
        "                   ([\"other\"]*25000)\n",
        "    \n",
        "demo_sample = random.sample(population_races, 1000)   # Sample 1000 values blah\n",
        "# print(set(demo_sample))\n",
        "\n",
        "for race in set(demo_sample):\n",
        "    print( race + \" proportion estimate:\" )\n",
        "    print( demo_sample.count(race)/1000 )"
      ],
      "execution_count": 24,
      "outputs": [
        {
          "output_type": "stream",
          "text": [
            "black proportion estimate:\n",
            "0.231\n",
            "asian proportion estimate:\n",
            "0.099\n",
            "other proportion estimate:\n",
            "0.099\n",
            "hispanic proportion estimate:\n",
            "0.192\n",
            "white proportion estimate:\n",
            "0.379\n"
          ],
          "name": "stdout"
        }
      ]
    }
  ]
}